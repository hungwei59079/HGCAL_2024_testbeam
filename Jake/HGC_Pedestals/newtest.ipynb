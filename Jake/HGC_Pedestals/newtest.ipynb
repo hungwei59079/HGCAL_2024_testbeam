{
 "cells": [
  {
   "cell_type": "code",
   "execution_count": 1,
   "id": "428dea86-3393-40f3-a17d-13c2ad750d83",
   "metadata": {},
   "outputs": [],
   "source": [
    "import ROOT\n",
    "import wafer\n",
    "import os"
   ]
  },
  {
   "cell_type": "code",
   "execution_count": 2,
   "id": "a8bb20b4-9cda-406f-a72c-4dfbf602baa1",
   "metadata": {},
   "outputs": [],
   "source": [
    "test = [0.0 for _ in range(222)]"
   ]
  },
  {
   "cell_type": "code",
   "execution_count": 3,
   "id": "c301b61a-639d-4730-b1eb-69a94a243918",
   "metadata": {},
   "outputs": [
    {
     "data": {
      "text/plain": [
       "<cppyy.gbl.TH2Poly object at 0x1519c1800>"
      ]
     },
     "execution_count": 3,
     "metadata": {},
     "output_type": "execute_result"
    }
   ],
   "source": [
    "wafer.fill_wafer_hist(test)"
   ]
  },
  {
   "cell_type": "code",
   "execution_count": 5,
   "id": "bfc8f18e-2f6b-45e8-beb5-c845c39161bf",
   "metadata": {},
   "outputs": [
    {
     "name": "stdout",
     "output_type": "stream",
     "text": [
      "2D Array from TXT:\n",
      " [[0.0926 0.1383 0.1042 ... 0.1107 0.0813 0.1045]\n",
      " [0.1131 0.0993 0.0981 ... 0.1225 0.2336 0.13  ]\n",
      " [0.0927 0.1118 0.1203 ... 0.0952 0.1146 0.1104]\n",
      " [0.1234 0.104  0.086  ... 0.1062 0.1147 0.2848]\n",
      " [0.1364 0.1059 0.0903 ... 0.1452 0.0942 0.0935]\n",
      " [0.1115 0.1011 0.1001 ... 0.1121 0.0943 0.0947]]\n"
     ]
    }
   ],
   "source": [
    "import numpy as np\n",
    "data = np.loadtxt(\"../1726589326_all_stdev.txt\", delimiter=\" \", dtype=float)\n",
    "\n",
    "print(\"2D Array from TXT:\\n\", data)"
   ]
  },
  {
   "cell_type": "code",
   "execution_count": 6,
   "id": "91af03fa-2bfc-440c-b5ac-54b6ae8ca8df",
   "metadata": {},
   "outputs": [
    {
     "data": {
      "text/plain": [
       "array([0.0926, 0.1383, 0.1042, 0.099 , 0.1227, 0.1471, 0.105 , 0.0993,\n",
       "       0.1076, 0.1151, 0.0949, 0.0824, 0.1208, 0.1288, 0.1724, 0.1408,\n",
       "       0.0916, 0.0919, 0.1151, 0.0817, 0.1034, 0.1023, 0.199 , 0.1141,\n",
       "       0.0976, 0.0897, 0.1537, 0.1086, 0.1299, 0.1125, 0.0924, 0.1017,\n",
       "       0.1316, 0.0909, 0.1554, 0.1197, 0.1389, 0.0941, 0.1326, 0.1948,\n",
       "       0.0962, 0.1018, 0.0975, 0.1027, 0.1028, 0.1205, 0.1265, 0.0941,\n",
       "       0.1332, 0.1125, 0.1097, 0.0928, 0.1187, 0.1189, 0.0924, 0.126 ,\n",
       "       0.1146, 0.1409, 0.119 , 0.1185, 0.12  , 0.1242, 0.1192, 0.1259,\n",
       "       0.1494, 0.0859, 0.1133, 0.1378, 0.0984, 0.1369, 0.0891, 0.1187,\n",
       "       0.111 , 0.131 , 0.1028, 0.1022, 0.1126, 0.0953, 0.1095, 0.0925,\n",
       "       0.0782, 0.1005, 0.1153, 0.0785, 0.0957, 0.1109, 0.1113, 0.0819,\n",
       "       0.1547, 0.1085, 0.0996, 0.0877, 0.0941, 0.0994, 0.0899, 0.0928,\n",
       "       0.1436, 0.0861, 0.1293, 0.1062, 0.0713, 0.1265, 0.1534, 0.0782,\n",
       "       0.1397, 0.0795, 0.0934, 0.0882, 0.104 , 0.0972, 0.1085, 0.1137,\n",
       "       0.0984, 0.1138, 0.1073, 0.1448, 0.1085, 0.1095, 0.1034, 0.1072,\n",
       "       0.1139, 0.1532, 0.0945, 0.0905, 0.0915, 0.0893, 0.0948, 0.1255,\n",
       "       0.1242, 0.1117, 0.1253, 0.1564, 0.093 , 0.1323, 0.1206, 0.1079,\n",
       "       0.1113, 0.1328, 0.129 , 0.0854, 0.1004, 0.1009, 0.0901, 0.1373,\n",
       "       0.1028, 0.1131, 0.0805, 0.0965, 0.1201, 0.1014, 0.1047, 0.0984,\n",
       "       0.119 , 0.1134, 0.0925, 0.1144, 0.1019, 0.1049, 0.1101, 0.111 ,\n",
       "       0.1081, 0.0738, 0.2219, 0.116 , 0.0765, 0.1058, 0.1128, 0.1208,\n",
       "       0.1069, 0.0999, 0.0974, 0.0907, 0.1177, 0.1058, 0.1482, 0.1161,\n",
       "       0.1496, 0.1441, 0.135 , 0.1076, 0.0927, 0.0936, 0.0871, 0.0996,\n",
       "       0.0986, 0.0796, 0.1656, 0.1182, 0.1152, 0.1675, 0.1038, 0.114 ,\n",
       "       0.1038, 0.1408, 0.1016, 0.1145, 0.1132, 0.1795, 0.1278, 0.1307,\n",
       "       0.0798, 0.1125, 0.1272, 0.1288, 0.0974, 0.1099, 0.1559, 0.1176,\n",
       "       0.1053, 0.1177, 0.0834, 0.1421, 0.1231, 0.1152, 0.0958, 0.0881,\n",
       "       0.1282, 0.1009, 0.1044, 0.1107, 0.0813, 0.1045])"
      ]
     },
     "execution_count": 6,
     "metadata": {},
     "output_type": "execute_result"
    }
   ],
   "source": [
    "data[0]"
   ]
  },
  {
   "cell_type": "code",
   "execution_count": 7,
   "id": "10cc2c95-48b9-4b58-8172-1774503c261d",
   "metadata": {},
   "outputs": [
    {
     "data": {
      "text/plain": [
       "<cppyy.gbl.TH2Poly object at 0x14425ee00>"
      ]
     },
     "execution_count": 7,
     "metadata": {},
     "output_type": "execute_result"
    }
   ],
   "source": [
    "wafer.fill_wafer_hist(data[0])"
   ]
  },
  {
   "cell_type": "code",
   "execution_count": 10,
   "id": "e6c2dbad-276b-4179-8003-c60c41f11d8b",
   "metadata": {},
   "outputs": [
    {
     "name": "stderr",
     "output_type": "stream",
     "text": [
      "Warning in <TCanvas::Constructor>: Deleting canvas with same name: m_0\n",
      "Info in <TCanvas::Print>: png file ./STDev_Map_for_Module_0.png has been created\n"
     ]
    }
   ],
   "source": [
    "hist = wafer.fill_wafer_hist(data[0])\n",
    "hist.SetTitle(\"STDev Map for Module 0\")\n",
    "hist.SetMinimum(0)\n",
    "hist.SetMaximum(0.5)\n",
    "canvas = ROOT.TCanvas(\"m_0\", \"Hexaplot\", 800, 600)\n",
    "hist.Draw(\"COLZ TEXT\")\n",
    "output_dir = \".\"\n",
    "canvas.SaveAs(\n",
    "    os.path.join(\n",
    "        output_dir, \"STDev_Map_for_Module_0.png\"\n",
    "    )\n",
    ")"
   ]
  },
  {
   "cell_type": "code",
   "execution_count": 11,
   "id": "2e0b9f9f-abab-4820-9a8d-2369e9290d0e",
   "metadata": {},
   "outputs": [
    {
     "name": "stderr",
     "output_type": "stream",
     "text": [
      "usage: ipykernel_launcher.py [-h] [--delimiter DELIMITER] filename\n",
      "ipykernel_launcher.py: error: unrecognized arguments: -f\n"
     ]
    },
    {
     "ename": "SystemExit",
     "evalue": "2",
     "output_type": "error",
     "traceback": [
      "An exception has occurred, use %tb to see the full traceback.\n",
      "\u001b[0;31mSystemExit\u001b[0m\u001b[0;31m:\u001b[0m 2\n"
     ]
    },
    {
     "name": "stderr",
     "output_type": "stream",
     "text": [
      "/opt/homebrew/Cellar/jupyterlab/4.3.5/libexec/lib/python3.13/site-packages/IPython/core/interactiveshell.py:3585: UserWarning: To exit: use 'exit', 'quit', or Ctrl-D.\n",
      "  warn(\"To exit: use 'exit', 'quit', or Ctrl-D.\", stacklevel=1)\n"
     ]
    }
   ],
   "source": [
    "import argparse\n",
    "import numpy as np\n",
    "\n",
    "# Set up argument parser\n",
    "parser = argparse.ArgumentParser(description=\"Read a 2D array from a .txt file.\")\n",
    "parser.add_argument(\"filename\", type=str, help=\"Path to the input text file\")\n",
    "parser.add_argument(\"--delimiter\", type=str, default=\" \", help=\"Delimiter used in the file (default: space)\")\n",
    "\n",
    "args = parser.parse_args()\n",
    "\n",
    "# Read the TXT file with the specified delimiter\n",
    "data = np.loadtxt(args.filename, delimiter=args.delimiter).astype(int)\n",
    "\n",
    "print(\"2D Array from TXT:\\n\", data)\n"
   ]
  },
  {
   "cell_type": "code",
   "execution_count": 12,
   "id": "bbc8e8c1-c59e-4df5-a933-2e5b67be1e8d",
   "metadata": {},
   "outputs": [
    {
     "ename": "NameError",
     "evalue": "name '__file__' is not defined",
     "output_type": "error",
     "traceback": [
      "\u001b[0;31m---------------------------------------------------------------------------\u001b[0m",
      "\u001b[0;31mNameError\u001b[0m                                 Traceback (most recent call last)",
      "Cell \u001b[0;32mIn[12], line 1\u001b[0m\n\u001b[0;32m----> 1\u001b[0m script_dir \u001b[38;5;241m=\u001b[39m os\u001b[38;5;241m.\u001b[39mpath\u001b[38;5;241m.\u001b[39mdirname(os\u001b[38;5;241m.\u001b[39mpath\u001b[38;5;241m.\u001b[39mabspath(\u001b[38;5;18;43m__file__\u001b[39;49m))\n",
      "\u001b[0;31mNameError\u001b[0m: name '__file__' is not defined"
     ]
    }
   ],
   "source": [
    "script_dir = os.path.dirname(os.path.abspath(__file__))"
   ]
  },
  {
   "cell_type": "code",
   "execution_count": 13,
   "id": "fb98b168-5066-41f1-bf65-d1eadf0dd18e",
   "metadata": {},
   "outputs": [
    {
     "name": "stderr",
     "output_type": "stream",
     "text": [
      "Warning in <TCanvas::Constructor>: Deleting canvas with same name: m_0\n",
      "Info in <TCanvas::Print>: png file ./Map_for_Module.png has been created\n"
     ]
    }
   ],
   "source": [
    "for i in range (222):\n",
    "    test[i] = i\n",
    "\n",
    "hist = wafer.fill_wafer_hist(test)\n",
    "hist.SetTitle(\"Num for Module\")\n",
    "hist.SetMinimum(0)\n",
    "hist.SetMaximum(0.5)\n",
    "canvas = ROOT.TCanvas(\"m_0\", \"Hexaplot\", 800, 600)\n",
    "hist.Draw(\"COLZ TEXT\")\n",
    "output_dir = \".\"\n",
    "canvas.SaveAs(\n",
    "    os.path.join(\n",
    "        output_dir, \"Map_for_Module.png\"\n",
    "    )\n",
    ")"
   ]
  },
  {
   "cell_type": "code",
   "execution_count": null,
   "id": "458bc03f-e05a-4d34-b189-b73a892ac04f",
   "metadata": {},
   "outputs": [],
   "source": []
  }
 ],
 "metadata": {
  "kernelspec": {
   "display_name": "Python 3 (ipykernel)",
   "language": "python",
   "name": "python3"
  },
  "language_info": {
   "codemirror_mode": {
    "name": "ipython",
    "version": 3
   },
   "file_extension": ".py",
   "mimetype": "text/x-python",
   "name": "python",
   "nbconvert_exporter": "python",
   "pygments_lexer": "ipython3",
   "version": "3.13.2"
  }
 },
 "nbformat": 4,
 "nbformat_minor": 5
}
